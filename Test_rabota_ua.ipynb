{
 "cells": [
  {
   "cell_type": "code",
   "execution_count": null,
   "metadata": {},
   "outputs": [],
   "source": [
    "from bs4 import BeautifulSoup\n",
    "from selenium import webdriver\n",
    "import pickle\n",
    "import sqlite3"
   ]
  },
  {
   "cell_type": "code",
   "execution_count": null,
   "metadata": {},
   "outputs": [],
   "source": [
    "def load_cookie(driverx, path):\n",
    "    with open(path, 'rb') as cookiesfile:\n",
    "        cookies = pickle.load(cookiesfile)\n",
    "        for cookie in cookies:\n",
    "            driverx.add_cookie(cookie)"
   ]
  },
  {
   "cell_type": "code",
   "execution_count": null,
   "metadata": {},
   "outputs": [],
   "source": [
    "conn = sqlite3.connect(\"mydatabase.db\")\n",
    "mycursor = conn.cursor()\n",
    "create_table = \"CREATE TABLE employees (Name_Surname text, Profile_Url text, Email text, Phone_Number text, City text, CV_Url text)\"\n",
    "mycursor.execute(create_table)\n",
    "drop_table = \"DROP TABLE employees\"\n",
    "#mycursor.execute(drop_table)"
   ]
  },
  {
   "cell_type": "code",
   "execution_count": null,
   "metadata": {},
   "outputs": [],
   "source": [
    "def insert_into_bd(Name_surname, Profile_url, Email, Phone_number, City, Cv_url):\n",
    "    sql = \"INSERT INTO employees (Name_Surname, Profile_Url, Email, Phone_Number, City, CV_Url) VALUES (?, ?, ?, ?, ?, ?)\"\n",
    "    val = (Name_surname, Profile_url, Email, Phone_number, City, Cv_url)\n",
    "    mycursor.execute(sql, val)\n",
    "    conn.commit()"
   ]
  },
  {
   "cell_type": "code",
   "execution_count": null,
   "metadata": {},
   "outputs": [],
   "source": [
    "driver = webdriver.Firefox(executable_path='C:\\\\Users\\\\yurak\\\\Desktop\\\\test\\\\geckodriver.exe')\n",
    "driver.get(\"https://notebook.rabota.ua/employer/notepad/cvs?vacancyId=-1\")\n",
    "#pickle.dump( driver.get_cookies() , open(\"cookies.pkl\",\"wb\"))\n",
    "load_cookie(driver, 'C:\\\\Users\\\\yurak\\\\Desktop\\\\test\\\\cookies.pkl')"
   ]
  },
  {
   "cell_type": "code",
   "execution_count": null,
   "metadata": {},
   "outputs": [],
   "source": [
    "for page in range(1, 19):\n",
    "    driver.get('https://notebook.rabota.ua/employer/notepad/cvs?vacancyId=-1&pg=' + str(page))\n",
    "    soup = BeautifulSoup(driver.page_source, \"html.parser\")\n",
    "    for profile in soup.find_all(\"a\", class_=\"rua-p-t_16 rua-p-c-default ga_cv_view_cv\"):\n",
    "        profile_url = profile[\"href\"]\n",
    "        name_surname = profile.text\n",
    "        driver.get(profile_url)\n",
    "        soup_profile = BeautifulSoup(driver.page_source, \"html.parser\")\n",
    "        #print(soup_profile.prettify())\n",
    "        try:\n",
    "            email = soup_profile.find(\"span\", {\"class\":\"rua-p-t_13\", \"id\":\"ctl00_centerZone_BriefResume1_ViewAttachedCV1_cvHeader_lblEmailValue\"}).get_text()\n",
    "        except AttributeError:\n",
    "            email = soup_profile.find(\"span\", {\"class\":\"rua-p-t_13\", \"id\":\"ctl00_centerZone_BriefResume1_CvView1_cvHeader_lblEmailValue\"}).get_text()\n",
    "        try:\n",
    "            phone_number = soup_profile.find(\"span\", {\"class\":\"rua-p-t_13\", \"id\":\"ctl00_centerZone_BriefResume1_CvView1_cvHeader_lblPhoneValue\"}).get_text()\n",
    "        except AttributeError:\n",
    "            phone_number = \"\"\n",
    "        try:\n",
    "            city = soup_profile.find(\"span\", {\"class\":\"rua-p-t_13\", \"id\":\"ctl00_centerZone_BriefResume1_CvView1_cvHeader_lblRegionValue\"}).get_text()\n",
    "        except AttributeError:\n",
    "            city = \"\"  \n",
    "        cv_url = str(soup.find(\"a\", class_=\"rua-p-t_16\")[\"href\"])\n",
    "        #driver.get(cv_url)\n",
    "        #email = soup_profile.select('#span[class=\"rua-p-t_13\"]')\n",
    "        #email = soup_profile.find(\"span\", id_=\"ctl00_centerZone_BriefResume1_ViewAttachedCV1_cvHeader_lblEmailValue\", class_=\"rua-p-t_13\")\n",
    "        #print(name_surname + \"\\n\" + profile_url + \"\\n\" + email +\"\\n\"+ phone_number + \"\\n\" + city + \"\\n\" + cv_url)\n",
    "        insert_into_bd(name_surname, profile_url, email, phone_number, city, cv_url)\n",
    "#sql_select_all = \"SELECT * FROM employees\"\n",
    "#mycursor.execute(sql_select_all)\n",
    "#print(mycursor.fetchall())"
   ]
  }
 ],
 "metadata": {
  "kernelspec": {
   "display_name": "Python 3",
   "language": "python",
   "name": "python3"
  },
  "language_info": {
   "codemirror_mode": {
    "name": "ipython",
    "version": 3
   },
   "file_extension": ".py",
   "mimetype": "text/x-python",
   "name": "python",
   "nbconvert_exporter": "python",
   "pygments_lexer": "ipython3",
   "version": "3.7.3"
  }
 },
 "nbformat": 4,
 "nbformat_minor": 2
}

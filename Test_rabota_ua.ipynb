{
 "cells": [
  {
   "cell_type": "code",
   "execution_count": 1,
   "metadata": {},
   "outputs": [],
   "source": [
    "from bs4 import BeautifulSoup\n",
    "from selenium import webdriver\n",
    "import pickle\n",
    "import sqlite3"
   ]
  },
  {
   "cell_type": "code",
   "execution_count": 2,
   "metadata": {},
   "outputs": [],
   "source": [
    "def load_cookie(driverx, path):\n",
    "    with open(path, 'rb') as cookiesfile:\n",
    "        cookies = pickle.load(cookiesfile)\n",
    "        for cookie in cookies:\n",
    "            driverx.add_cookie(cookie)"
   ]
  },
  {
   "cell_type": "code",
   "execution_count": 7,
   "metadata": {},
   "outputs": [
    {
     "data": {
      "text/plain": [
       "<sqlite3.Cursor at 0x2f3e553f180>"
      ]
     },
     "execution_count": 7,
     "metadata": {},
     "output_type": "execute_result"
    }
   ],
   "source": [
    "conn = sqlite3.connect(\"mydatabase.db\")\n",
    "mycursor = conn.cursor()\n",
    "create_table = \"CREATE TABLE employees (Name_Surname text, Profile_Url text, Email text, Phone_Number text, City text, CV_Url text)\"\n",
    "mycursor.execute(create_table)\n",
    "drop_table = \"DROP TABLE employees\"\n",
    "#mycursor.execute(drop_table)"
   ]
  },
  {
   "cell_type": "code",
   "execution_count": 4,
   "metadata": {},
   "outputs": [],
   "source": [
    "def insert_into_bd(Name_surname, Profile_url, Email, Phone_number, City, Cv_url):\n",
    "    sql = \"INSERT INTO employees (Name_Surname, Profile_Url, Email, Phone_Number, City, CV_Url) VALUES (?, ?, ?, ?, ?, ?)\"\n",
    "    val = (Name_surname, Profile_url, Email, Phone_number, City, Cv_url)\n",
    "    mycursor.execute(sql, val)\n",
    "    conn.commit()"
   ]
  },
  {
   "cell_type": "code",
   "execution_count": 5,
   "metadata": {},
   "outputs": [],
   "source": [
    "driver = webdriver.Firefox(executable_path='C:\\\\Users\\\\yurak\\\\Desktop\\\\test\\\\geckodriver.exe')\n",
    "driver.get(\"https://notebook.rabota.ua/employer/notepad/cvs?vacancyId=-1\")\n",
    "#pickle.dump( driver.get_cookies() , open(\"cookies.pkl\",\"wb\"))\n",
    "load_cookie(driver, 'C:\\\\Users\\\\yurak\\\\Desktop\\\\test\\\\cookies.pkl')"
   ]
  },
  {
   "cell_type": "code",
   "execution_count": 6,
   "metadata": {},
   "outputs": [
    {
     "name": "stdout",
     "output_type": "stream",
     "text": [
      "Роман Снигир\n",
      "https://rabota.ua/cv/0?arctype=1&parentId=18089400&id=68495562&pageNumber=1&fld=1&vacancyId=-1\n",
      "robert355335@gmail.com\n",
      "\n",
      "\n",
      "https://rabota.ua/cv/0?arctype=1&parentId=18089400&id=68495562&pageNumber=1&fld=1&vacancyId=-1\n",
      "Вероника Шишкина\n",
      "https://rabota.ua/cv/0?arctype=1&parentId=18089127&id=68494467&pageNumber=2&fld=1&vacancyId=-1\n",
      "nikusyash@gmail.com\n",
      "\n",
      "\n",
      "https://rabota.ua/cv/0?arctype=1&parentId=18089400&id=68495562&pageNumber=1&fld=1&vacancyId=-1\n",
      "Луппа Алексей Андреевич\n",
      "https://rabota.ua/cv/14241706?arctype=2&id=42452364&pageNumber=3&fld=1&vacancyId=-1\n",
      "asleep.alex@gmail.com\n",
      "+38 (096) 351-20-47\n",
      "Киев\n",
      "https://rabota.ua/cv/0?arctype=1&parentId=18089400&id=68495562&pageNumber=1&fld=1&vacancyId=-1\n",
      "Александр Яворский\n",
      "https://rabota.ua/cv/0?arctype=1&parentId=18087909&id=68489140&pageNumber=4&fld=1&vacancyId=-1\n",
      "frey87@gmail.com\n",
      "\n",
      "\n",
      "https://rabota.ua/cv/0?arctype=1&parentId=18089400&id=68495562&pageNumber=1&fld=1&vacancyId=-1\n",
      "Qsr God\n",
      "https://rabota.ua/cv/0?arctype=1&parentId=18087747&id=68488115&pageNumber=5&fld=1&vacancyId=-1\n",
      "flaxez.gg@gmail.com\n",
      "\n",
      "\n",
      "https://rabota.ua/cv/0?arctype=1&parentId=18089400&id=68495562&pageNumber=1&fld=1&vacancyId=-1\n",
      "Марія Золотник\n",
      "https://rabota.ua/cv/0?arctype=1&parentId=18072247&id=68412782&pageNumber=6&fld=1&vacancyId=-1\n",
      "zolmaria55@gmail.com\n",
      "\n",
      "\n",
      "https://rabota.ua/cv/0?arctype=1&parentId=18089400&id=68495562&pageNumber=1&fld=1&vacancyId=-1\n",
      "Юлия Гайдей\n",
      "https://rabota.ua/cv/0?arctype=1&parentId=18087124&id=68485744&pageNumber=7&fld=1&vacancyId=-1\n",
      "yuliiahaidei@gmail.com\n",
      "\n",
      "\n",
      "https://rabota.ua/cv/0?arctype=1&parentId=18089400&id=68495562&pageNumber=1&fld=1&vacancyId=-1\n",
      "Алина Пилипенко\n",
      "https://rabota.ua/cv/0?arctype=1&parentId=18086993&id=68484534&pageNumber=8&fld=1&vacancyId=-1\n",
      "alina.pilipenko.pm@gmail.com\n",
      "\n",
      "\n",
      "https://rabota.ua/cv/0?arctype=1&parentId=18089400&id=68495562&pageNumber=1&fld=1&vacancyId=-1\n",
      "Ткаченко Ксения \n",
      "https://rabota.ua/cv/13716054?arctype=2&id=42443367&pageNumber=9&fld=1&vacancyId=-1\n",
      "ks-tk@ukr.net\n",
      "+38 (095) 011 - 67 - 37\n",
      "Киев\n",
      "https://rabota.ua/cv/0?arctype=1&parentId=18089400&id=68495562&pageNumber=1&fld=1&vacancyId=-1\n",
      "Алина Пилипенко\n",
      "https://rabota.ua/cv/0?arctype=1&parentId=18086993&id=68484294&pageNumber=10&fld=1&vacancyId=-1\n",
      "alina.pilipenko.pm@gmail.com\n",
      "\n",
      "\n",
      "https://rabota.ua/cv/0?arctype=1&parentId=18089400&id=68495562&pageNumber=1&fld=1&vacancyId=-1\n",
      "Sytnik Mariia Igorevna\n",
      "https://rabota.ua/cv/14180301?arctype=2&id=42441810&pageNumber=11&fld=1&vacancyId=-1\n",
      "mariiasytnik98@gmail.com\n",
      "+38 (099) 314 - 62 - 55\n",
      "Киев\n",
      "https://rabota.ua/cv/0?arctype=1&parentId=18089400&id=68495562&pageNumber=1&fld=1&vacancyId=-1\n",
      "Інна Ковальчук\n",
      "https://rabota.ua/cv/0?arctype=1&parentId=17982710&id=68480520&pageNumber=12&fld=1&vacancyId=-1\n",
      "innakovalski7@gmail.com\n",
      "\n",
      "\n",
      "https://rabota.ua/cv/0?arctype=1&parentId=18089400&id=68495562&pageNumber=1&fld=1&vacancyId=-1\n",
      "Olexii Opanasenko\n",
      "https://rabota.ua/cv/0?arctype=1&parentId=18078744&id=68479316&pageNumber=13&fld=1&vacancyId=-1\n",
      "acfobiz@gmail.com\n",
      "\n",
      "\n",
      "https://rabota.ua/cv/0?arctype=1&parentId=18089400&id=68495562&pageNumber=1&fld=1&vacancyId=-1\n",
      "Olexii Opanasenko\n",
      "https://rabota.ua/cv/0?arctype=1&parentId=18078744&id=68479011&pageNumber=14&fld=1&vacancyId=-1\n",
      "acfobiz@gmail.com\n",
      "\n",
      "\n",
      "https://rabota.ua/cv/0?arctype=1&parentId=18089400&id=68495562&pageNumber=1&fld=1&vacancyId=-1\n",
      "Алексей Яндюк\n",
      "https://rabota.ua/cv/0?arctype=1&parentId=18020777&id=68478001&pageNumber=15&fld=1&vacancyId=-1\n",
      "dragonfireq@ukr.net\n",
      "\n",
      "\n",
      "https://rabota.ua/cv/0?arctype=1&parentId=18089400&id=68495562&pageNumber=1&fld=1&vacancyId=-1\n",
      "Труфанов Александр Дмитриевич\n",
      "https://rabota.ua/cv/11267165?arctype=2&id=42433960&pageNumber=16&fld=1&vacancyId=-1\n",
      "a.d.trufanov@gmail.com\n",
      "+38 (098) 595 - 73 - 37\n",
      "Киев\n",
      "https://rabota.ua/cv/0?arctype=1&parentId=18089400&id=68495562&pageNumber=1&fld=1&vacancyId=-1\n",
      "Samofalova Kristina \n",
      "https://rabota.ua/cv/11104257?arctype=2&id=42433644&pageNumber=17&fld=1&vacancyId=-1\n",
      "kristina.samofalovaa@gmail.com\n",
      "+38 (093) 093-13-43\n",
      "Kiev\n",
      "https://rabota.ua/cv/0?arctype=1&parentId=18089400&id=68495562&pageNumber=1&fld=1&vacancyId=-1\n",
      "Павел Слюсар\n",
      "https://rabota.ua/cv/0?arctype=1&parentId=18084810&id=68475469&pageNumber=18&fld=1&vacancyId=-1\n",
      "pavlo_slusar@yahoo.com\n",
      "\n",
      "\n",
      "https://rabota.ua/cv/0?arctype=1&parentId=18089400&id=68495562&pageNumber=1&fld=1&vacancyId=-1\n",
      "Ilya Kochinashvili\n",
      "https://rabota.ua/cv/0?arctype=1&parentId=18083539&id=68472307&pageNumber=19&fld=1&vacancyId=-1\n",
      "kochinashviliilya@gmail.com\n",
      "\n",
      "\n",
      "https://rabota.ua/cv/0?arctype=1&parentId=18089400&id=68495562&pageNumber=1&fld=1&vacancyId=-1\n"
     ]
    },
    {
     "ename": "NoSuchWindowException",
     "evalue": "Message: Browsing context has been discarded\n",
     "output_type": "error",
     "traceback": [
      "\u001b[1;31m---------------------------------------------------------------------------\u001b[0m",
      "\u001b[1;31mNoSuchWindowException\u001b[0m                     Traceback (most recent call last)",
      "\u001b[1;32m<ipython-input-6-540ab4e636d6>\u001b[0m in \u001b[0;36m<module>\u001b[1;34m\u001b[0m\n\u001b[0;32m      6\u001b[0m         \u001b[0mname_surname\u001b[0m \u001b[1;33m=\u001b[0m \u001b[0mprofile\u001b[0m\u001b[1;33m.\u001b[0m\u001b[0mtext\u001b[0m\u001b[1;33m\u001b[0m\u001b[1;33m\u001b[0m\u001b[0m\n\u001b[0;32m      7\u001b[0m         \u001b[0mdriver\u001b[0m\u001b[1;33m.\u001b[0m\u001b[0mget\u001b[0m\u001b[1;33m(\u001b[0m\u001b[0mprofile_url\u001b[0m\u001b[1;33m)\u001b[0m\u001b[1;33m\u001b[0m\u001b[1;33m\u001b[0m\u001b[0m\n\u001b[1;32m----> 8\u001b[1;33m         \u001b[0msoup_profile\u001b[0m \u001b[1;33m=\u001b[0m \u001b[0mBeautifulSoup\u001b[0m\u001b[1;33m(\u001b[0m\u001b[0mdriver\u001b[0m\u001b[1;33m.\u001b[0m\u001b[0mpage_source\u001b[0m\u001b[1;33m,\u001b[0m \u001b[1;34m\"html.parser\"\u001b[0m\u001b[1;33m)\u001b[0m\u001b[1;33m\u001b[0m\u001b[1;33m\u001b[0m\u001b[0m\n\u001b[0m\u001b[0;32m      9\u001b[0m         \u001b[1;31m#print(soup_profile.prettify())\u001b[0m\u001b[1;33m\u001b[0m\u001b[1;33m\u001b[0m\u001b[1;33m\u001b[0m\u001b[0m\n\u001b[0;32m     10\u001b[0m         \u001b[1;32mtry\u001b[0m\u001b[1;33m:\u001b[0m\u001b[1;33m\u001b[0m\u001b[1;33m\u001b[0m\u001b[0m\n",
      "\u001b[1;32m~\\Anaconda3\\lib\\site-packages\\selenium\\webdriver\\remote\\webdriver.py\u001b[0m in \u001b[0;36mpage_source\u001b[1;34m(self)\u001b[0m\n\u001b[0;32m    677\u001b[0m             \u001b[0mdriver\u001b[0m\u001b[1;33m.\u001b[0m\u001b[0mpage_source\u001b[0m\u001b[1;33m\u001b[0m\u001b[1;33m\u001b[0m\u001b[0m\n\u001b[0;32m    678\u001b[0m         \"\"\"\n\u001b[1;32m--> 679\u001b[1;33m         \u001b[1;32mreturn\u001b[0m \u001b[0mself\u001b[0m\u001b[1;33m.\u001b[0m\u001b[0mexecute\u001b[0m\u001b[1;33m(\u001b[0m\u001b[0mCommand\u001b[0m\u001b[1;33m.\u001b[0m\u001b[0mGET_PAGE_SOURCE\u001b[0m\u001b[1;33m)\u001b[0m\u001b[1;33m[\u001b[0m\u001b[1;34m'value'\u001b[0m\u001b[1;33m]\u001b[0m\u001b[1;33m\u001b[0m\u001b[1;33m\u001b[0m\u001b[0m\n\u001b[0m\u001b[0;32m    680\u001b[0m \u001b[1;33m\u001b[0m\u001b[0m\n\u001b[0;32m    681\u001b[0m     \u001b[1;32mdef\u001b[0m \u001b[0mclose\u001b[0m\u001b[1;33m(\u001b[0m\u001b[0mself\u001b[0m\u001b[1;33m)\u001b[0m\u001b[1;33m:\u001b[0m\u001b[1;33m\u001b[0m\u001b[1;33m\u001b[0m\u001b[0m\n",
      "\u001b[1;32m~\\Anaconda3\\lib\\site-packages\\selenium\\webdriver\\remote\\webdriver.py\u001b[0m in \u001b[0;36mexecute\u001b[1;34m(self, driver_command, params)\u001b[0m\n\u001b[0;32m    319\u001b[0m         \u001b[0mresponse\u001b[0m \u001b[1;33m=\u001b[0m \u001b[0mself\u001b[0m\u001b[1;33m.\u001b[0m\u001b[0mcommand_executor\u001b[0m\u001b[1;33m.\u001b[0m\u001b[0mexecute\u001b[0m\u001b[1;33m(\u001b[0m\u001b[0mdriver_command\u001b[0m\u001b[1;33m,\u001b[0m \u001b[0mparams\u001b[0m\u001b[1;33m)\u001b[0m\u001b[1;33m\u001b[0m\u001b[1;33m\u001b[0m\u001b[0m\n\u001b[0;32m    320\u001b[0m         \u001b[1;32mif\u001b[0m \u001b[0mresponse\u001b[0m\u001b[1;33m:\u001b[0m\u001b[1;33m\u001b[0m\u001b[1;33m\u001b[0m\u001b[0m\n\u001b[1;32m--> 321\u001b[1;33m             \u001b[0mself\u001b[0m\u001b[1;33m.\u001b[0m\u001b[0merror_handler\u001b[0m\u001b[1;33m.\u001b[0m\u001b[0mcheck_response\u001b[0m\u001b[1;33m(\u001b[0m\u001b[0mresponse\u001b[0m\u001b[1;33m)\u001b[0m\u001b[1;33m\u001b[0m\u001b[1;33m\u001b[0m\u001b[0m\n\u001b[0m\u001b[0;32m    322\u001b[0m             response['value'] = self._unwrap_value(\n\u001b[0;32m    323\u001b[0m                 response.get('value', None))\n",
      "\u001b[1;32m~\\Anaconda3\\lib\\site-packages\\selenium\\webdriver\\remote\\errorhandler.py\u001b[0m in \u001b[0;36mcheck_response\u001b[1;34m(self, response)\u001b[0m\n\u001b[0;32m    240\u001b[0m                 \u001b[0malert_text\u001b[0m \u001b[1;33m=\u001b[0m \u001b[0mvalue\u001b[0m\u001b[1;33m[\u001b[0m\u001b[1;34m'alert'\u001b[0m\u001b[1;33m]\u001b[0m\u001b[1;33m.\u001b[0m\u001b[0mget\u001b[0m\u001b[1;33m(\u001b[0m\u001b[1;34m'text'\u001b[0m\u001b[1;33m)\u001b[0m\u001b[1;33m\u001b[0m\u001b[1;33m\u001b[0m\u001b[0m\n\u001b[0;32m    241\u001b[0m             \u001b[1;32mraise\u001b[0m \u001b[0mexception_class\u001b[0m\u001b[1;33m(\u001b[0m\u001b[0mmessage\u001b[0m\u001b[1;33m,\u001b[0m \u001b[0mscreen\u001b[0m\u001b[1;33m,\u001b[0m \u001b[0mstacktrace\u001b[0m\u001b[1;33m,\u001b[0m \u001b[0malert_text\u001b[0m\u001b[1;33m)\u001b[0m\u001b[1;33m\u001b[0m\u001b[1;33m\u001b[0m\u001b[0m\n\u001b[1;32m--> 242\u001b[1;33m         \u001b[1;32mraise\u001b[0m \u001b[0mexception_class\u001b[0m\u001b[1;33m(\u001b[0m\u001b[0mmessage\u001b[0m\u001b[1;33m,\u001b[0m \u001b[0mscreen\u001b[0m\u001b[1;33m,\u001b[0m \u001b[0mstacktrace\u001b[0m\u001b[1;33m)\u001b[0m\u001b[1;33m\u001b[0m\u001b[1;33m\u001b[0m\u001b[0m\n\u001b[0m\u001b[0;32m    243\u001b[0m \u001b[1;33m\u001b[0m\u001b[0m\n\u001b[0;32m    244\u001b[0m     \u001b[1;32mdef\u001b[0m \u001b[0m_value_or_default\u001b[0m\u001b[1;33m(\u001b[0m\u001b[0mself\u001b[0m\u001b[1;33m,\u001b[0m \u001b[0mobj\u001b[0m\u001b[1;33m,\u001b[0m \u001b[0mkey\u001b[0m\u001b[1;33m,\u001b[0m \u001b[0mdefault\u001b[0m\u001b[1;33m)\u001b[0m\u001b[1;33m:\u001b[0m\u001b[1;33m\u001b[0m\u001b[1;33m\u001b[0m\u001b[0m\n",
      "\u001b[1;31mNoSuchWindowException\u001b[0m: Message: Browsing context has been discarded\n"
     ]
    }
   ],
   "source": [
    "for page in range(1, 19):\n",
    "    driver.get('https://notebook.rabota.ua/employer/notepad/cvs?vacancyId=-1&pg=' + str(page))\n",
    "    soup = BeautifulSoup(driver.page_source, \"html.parser\")\n",
    "    for profile in soup.find_all(\"a\", class_=\"rua-p-t_16 rua-p-c-default ga_cv_view_cv\"):\n",
    "        profile_url = profile[\"href\"]\n",
    "        name_surname = profile.text\n",
    "        driver.get(profile_url)\n",
    "        soup_profile = BeautifulSoup(driver.page_source, \"html.parser\")\n",
    "        #print(soup_profile.prettify())\n",
    "        try:\n",
    "            email = soup_profile.find(\"span\", {\"class\":\"rua-p-t_13\", \"id\":\"ctl00_centerZone_BriefResume1_ViewAttachedCV1_cvHeader_lblEmailValue\"}).get_text()\n",
    "        except AttributeError:\n",
    "            email = soup_profile.find(\"span\", {\"class\":\"rua-p-t_13\", \"id\":\"ctl00_centerZone_BriefResume1_CvView1_cvHeader_lblEmailValue\"}).get_text()\n",
    "        try:\n",
    "            phone_number = soup_profile.find(\"span\", {\"class\":\"rua-p-t_13\", \"id\":\"ctl00_centerZone_BriefResume1_CvView1_cvHeader_lblPhoneValue\"}).get_text()\n",
    "        except AttributeError:\n",
    "            phone_number = \"\"\n",
    "        try:\n",
    "            city = soup_profile.find(\"span\", {\"class\":\"rua-p-t_13\", \"id\":\"ctl00_centerZone_BriefResume1_CvView1_cvHeader_lblRegionValue\"}).get_text()\n",
    "        except AttributeError:\n",
    "            city = \"\"  \n",
    "        cv_url = str(soup.find(\"a\", class_=\"rua-p-t_16\")[\"href\"])\n",
    "        #driver.get(cv_url)\n",
    "        #email = soup_profile.select('#span[class=\"rua-p-t_13\"]')\n",
    "        #email = soup_profile.find(\"span\", id_=\"ctl00_centerZone_BriefResume1_ViewAttachedCV1_cvHeader_lblEmailValue\", class_=\"rua-p-t_13\")\n",
    "        print(name_surname + \"\\n\" + profile_url + \"\\n\" + email +\"\\n\"+ phone_number + \"\\n\" + city + \"\\n\" + cv_url)\n",
    "        insert_into_bd(name_surname, profile_url, email, phone_number, city, cv_url)\n",
    "#sql_select_all = \"SELECT * FROM employees\"\n",
    "#mycursor.execute(sql_select_all)\n",
    "#print(mycursor.fetchall())"
   ]
  }
 ],
 "metadata": {
  "kernelspec": {
   "display_name": "Python 3",
   "language": "python",
   "name": "python3"
  },
  "language_info": {
   "codemirror_mode": {
    "name": "ipython",
    "version": 3
   },
   "file_extension": ".py",
   "mimetype": "text/x-python",
   "name": "python",
   "nbconvert_exporter": "python",
   "pygments_lexer": "ipython3",
   "version": "3.7.3"
  }
 },
 "nbformat": 4,
 "nbformat_minor": 2
}
